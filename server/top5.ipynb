{
 "cells": [
  {
   "cell_type": "code",
   "execution_count": 1,
   "metadata": {},
   "outputs": [],
   "source": [
    "from langchain_ollama import ChatOllama\n",
    "from langchain.prompts import PromptTemplate, FewShotPromptTemplate\n",
    "from langchain_core.example_selectors import LengthBasedExampleSelector\n",
    "from langchain_core.output_parsers import StrOutputParser\n",
    "import asyncio\n",
    "import os\n",
    "import inspect\n",
    "import logging\n",
    "from lightrag import LightRAG, QueryParam\n",
    "from lightrag.llm.ollama import ollama_model_complete, ollama_embed\n",
    "from lightrag.utils import EmbeddingFunc\n",
    "import json\n",
    "import re\n",
    "WORKING_DIR = \"/home/tttung/Khiem/thesis/1740930358\""
   ]
  },
  {
   "cell_type": "code",
   "execution_count": 2,
   "metadata": {},
   "outputs": [
    {
     "name": "stderr",
     "output_type": "stream",
     "text": [
      "/home/tttung/Khiem/env/lib/python3.12/site-packages/tqdm/auto.py:21: TqdmWarning: IProgress not found. Please update jupyter and ipywidgets. See https://ipywidgets.readthedocs.io/en/stable/user_install.html\n",
      "  from .autonotebook import tqdm as notebook_tqdm\n",
      "INFO:nano-vectordb:Load (0, 768) data\n",
      "INFO:nano-vectordb:Init {'embedding_dim': 768, 'metric': 'cosine', 'storage_file': '/home/tttung/Khiem/thesis/1740930358/vdb_entities.json'} 0 data\n",
      "INFO:nano-vectordb:Load (1, 768) data\n",
      "INFO:nano-vectordb:Init {'embedding_dim': 768, 'metric': 'cosine', 'storage_file': '/home/tttung/Khiem/thesis/1740930358/vdb_relationships.json'} 1 data\n",
      "INFO:nano-vectordb:Load (1, 768) data\n",
      "INFO:nano-vectordb:Init {'embedding_dim': 768, 'metric': 'cosine', 'storage_file': '/home/tttung/Khiem/thesis/1740930358/vdb_chunks.json'} 1 data\n",
      "INFO:lightrag:Loaded document status storage with 1 records\n",
      "INFO:lightrag:No new unique documents were found.\n",
      "INFO:lightrag:All documents have been processed or are duplicates\n"
     ]
    },
    {
     "name": "stderr",
     "output_type": "stream",
     "text": [
      "INFO:lightrag:Storage Initialization completed!\n"
     ]
    }
   ],
   "source": [
    "import nest_asyncio\n",
    "nest_asyncio.apply()\n",
    "\n",
    "llm = ChatOllama(model = 'phi4', temperature=0)\n",
    "rag = LightRAG(\n",
    "    working_dir=WORKING_DIR,\n",
    "    llm_model_func=ollama_model_complete,\n",
    "    llm_model_name='phi4',\n",
    "    llm_model_max_async=4,\n",
    "    llm_model_max_token_size=32768,\n",
    "    llm_model_kwargs={\"host\": \"http://localhost:11434\", \"options\": {\"num_ctx\": 32768}},\n",
    "    embedding_func=EmbeddingFunc(\n",
    "        embedding_dim=768,\n",
    "        max_token_size=8192,\n",
    "        func=lambda texts: ollama_embed(\n",
    "            texts, embed_model=\"nomic-embed-text\", host=\"http://localhost:11434\"\n",
    "        ),\n",
    "    ),\n",
    "\n",
    ")\n",
    "with open(\"/home/tttung/Khiem/thesis/1740930358/cooking_procedure.txt\", \"r\", encoding=\"utf-8\") as f:\n",
    "    rag.insert(f.read())\n"
   ]
  },
  {
   "cell_type": "code",
   "execution_count": 3,
   "metadata": {},
   "outputs": [
    {
     "name": "stderr",
     "output_type": "stream",
     "text": [
      "INFO:lightrag:Non-embedding cached missed(mode:global type:query)\n",
      "INFO:lightrag:Non-embedding cached missed(mode:global type:keywords)\n",
      "INFO:lightrag:Inserting 1 to llm_response_cache\n",
      "INFO:lightrag:Query edges: Document structure, Steps identification, top_k: 60, cosine: 0.2\n",
      "INFO:lightrag:Global query uses 2 entites, 1 relations, 1 chunks\n",
      "INFO:lightrag:Inserting 1 to llm_response_cache\n"
     ]
    },
    {
     "data": {
      "text/plain": [
       "'The document outlines 8 steps for cooking pasta:\\n\\n1. Boil the Water  \\n2. Add Salt  \\n3. Drop in the Pasta  \\n4. Cook Until Al Dente  \\n5. Save Some Pasta Water  \\n6. Drain the Pasta  \\n7. Mix with Sauce  \\n8. Serve and Enjoy  '"
      ]
     },
     "execution_count": 3,
     "metadata": {},
     "output_type": "execute_result"
    }
   ],
   "source": [
    "num_of_steps = rag.query(\"How many steps in the document, what are they? just tell the number of steps and list name of steps with its number, no details\", \n",
    "                             param=QueryParam(mode=\"global\"))\n",
    "num_of_steps"
   ]
  },
  {
   "cell_type": "code",
   "execution_count": 4,
   "metadata": {},
   "outputs": [],
   "source": [
    "few_shot_examples = [\n",
    "    {\n",
    "        \"input\": \"Step 1: Prepare Ingredients\\nStep 2: Cook Meat\\nStep 3: Serve Dish\",\n",
    "        \"output\": \"\"\"\n",
    "            subgraph cluster_1 {{ label=\"Prepare Ingredients\" }}\n",
    "            subgraph cluster_2 {{ label=\"Cook Meat\" }}\n",
    "            subgraph cluster_3 {{ label=\"Serve Dish\" }}\n",
    "        \"\"\"\n",
    "    },\n",
    "    {\n",
    "        \"input\": \"Preheat Oven\\nMix Batter\\nBake Cake\",\n",
    "        \"output\": \"\"\"\n",
    "            subgraph cluster_1 {{ label=\"Preheat Oven\" }}\n",
    "            subgraph cluster_2 {{ label=\"Mix Batter\" }}\n",
    "            subgraph cluster_3 {{ label=\"Bake Cake\" }}\n",
    "        \"\"\"\n",
    "    }\n",
    "]\n",
    "\n",
    "example_template = \"\"\"\n",
    "Input steps:\n",
    "{input}\n",
    "\n",
    "Output DOT code:\n",
    "{output}\n",
    "\"\"\"\n",
    "\n",
    "example_prompt = PromptTemplate(\n",
    "    input_variables=[\"input\", \"output\"],\n",
    "    template=example_template\n",
    ")"
   ]
  },
  {
   "cell_type": "code",
   "execution_count": 5,
   "metadata": {},
   "outputs": [],
   "source": [
    "cot_instructions = \"\"\"\n",
    "You are tasked with converting a list of procedural steps into DOT code for a flowchart. \n",
    "Each step should become a subgraph with a descriptive label. Follow these steps:\n",
    "\n",
    "1. Read the list of steps provided.\n",
    "2. For each step, create a subgraph in DOT syntax (e.g., 'subgraph cluster_X {{ label=\"Step Name\" }}').\n",
    "3. Number the subgraphs sequentially (cluster_1, cluster_2, etc.).\n",
    "4. Ensure the output is valid DOT code that can be rendered as a flowchart.\n",
    "\n",
    "Now, process the following steps and output the DOT code:\n",
    "{steps}\n",
    "\"\"\""
   ]
  },
  {
   "cell_type": "code",
   "execution_count": 6,
   "metadata": {},
   "outputs": [],
   "source": [
    "few_shot_prompt = FewShotPromptTemplate(\n",
    "    examples=few_shot_examples,\n",
    "    example_prompt=example_prompt,\n",
    "    prefix=\"Here are some examples of converting steps to DOT code:\\n\",\n",
    "    suffix=cot_instructions,\n",
    "    input_variables=[\"steps\"],\n",
    "    example_separator=\"\\n---\\n\"\n",
    ")"
   ]
  },
  {
   "cell_type": "code",
   "execution_count": 7,
   "metadata": {},
   "outputs": [
    {
     "name": "stdout",
     "output_type": "stream",
     "text": [
      "Generated DOT code:\n",
      " To convert the given list of procedural steps into DOT code for a flowchart, we will follow these instructions:\n",
      "\n",
      "1. **Read the List of Steps**: We have 8 steps provided in the task.\n",
      "2. **Create Subgraphs**: For each step, create a subgraph using the DOT syntax `subgraph cluster_X { label=\"Step Name\" }`.\n",
      "3. **Number the Subgraphs Sequentially**: Start numbering from `cluster_1` and increment for each subsequent step.\n",
      "\n",
      "Here is the conversion of the steps into DOT code:\n",
      "\n",
      "```dot\n",
      "subgraph cluster_1 { label=\"Boil the Water\" }\n",
      "subgraph cluster_2 { label=\"Add Salt\" }\n",
      "subgraph cluster_3 { label=\"Drop in the Pasta\" }\n",
      "subgraph cluster_4 { label=\"Cook Until Al Dente\" }\n",
      "subgraph cluster_5 { label=\"Save Some Pasta Water\" }\n",
      "subgraph cluster_6 { label=\"Drain the Pasta\" }\n",
      "subgraph cluster_7 { label=\"Mix with Sauce\" }\n",
      "subgraph cluster_8 { label=\"Serve and Enjoy\" }\n",
      "```\n",
      "\n",
      "This DOT code represents each step as a subgraph, which can be rendered into a flowchart. Each subgraph is labeled according to its respective procedural step in cooking pasta.\n"
     ]
    }
   ],
   "source": [
    "# Use num_of_steps directly as the input\n",
    "final_prompt = few_shot_prompt.format(steps=num_of_steps)\n",
    "dot_code_output = llm.invoke(final_prompt)\n",
    "dot_code_output_step1 = dot_code_output.content\n",
    "# Print the result\n",
    "print(\"Generated DOT code:\\n\", dot_code_output.content)\n"
   ]
  },
  {
   "cell_type": "markdown",
   "metadata": {},
   "source": [
    "## Step 2"
   ]
  },
  {
   "cell_type": "code",
   "execution_count": 8,
   "metadata": {},
   "outputs": [
    {
     "data": {
      "text/plain": [
       "['1. Boil the Water',\n",
       " '2. Add Salt',\n",
       " '3. Drop in the Pasta',\n",
       " '4. Cook Until Al Dente',\n",
       " '5. Save Some Pasta Water',\n",
       " '6. Drain the Pasta',\n",
       " '7. Mix with Sauce',\n",
       " '8. Serve and Enjoy']"
      ]
     },
     "execution_count": 8,
     "metadata": {},
     "output_type": "execute_result"
    }
   ],
   "source": [
    "step_lines = num_of_steps.strip().split(\"\\n\")[1:]  # Skip intro line\n",
    "step_names = [line.strip() for line in step_lines if line.strip()]\n",
    "step_names"
   ]
  },
  {
   "cell_type": "code",
   "execution_count": 9,
   "metadata": {},
   "outputs": [
    {
     "name": "stderr",
     "output_type": "stream",
     "text": [
      "INFO:lightrag:Non-embedding cached missed(mode:local type:query)\n",
      "INFO:lightrag:Non-embedding cached missed(mode:local type:keywords)\n",
      "INFO:lightrag:Inserting 1 to llm_response_cache\n",
      "INFO:lightrag:Query nodes: Actor, Main action, Entities, Relevant information, Boil water, Step, Document, top_k: 60, cosine: 0.2\n",
      "INFO:lightrag:Non-embedding cached missed(mode:local type:query)\n",
      "INFO:lightrag:Non-embedding cached missed(mode:local type:keywords)\n"
     ]
    },
    {
     "name": "stdout",
     "output_type": "stream",
     "text": [
      "Step 2 - Details for '1. Boil the Water':\n",
      " Sorry, I'm not able to provide an answer to that question.[no-context]\n"
     ]
    },
    {
     "name": "stderr",
     "output_type": "stream",
     "text": [
      "INFO:lightrag:Inserting 1 to llm_response_cache\n",
      "INFO:lightrag:Query nodes: Step '2', Add Salt, Actor, Main action, Entities, Relevant information, Instruction document, top_k: 60, cosine: 0.2\n",
      "INFO:lightrag:Non-embedding cached missed(mode:local type:query)\n",
      "INFO:lightrag:Non-embedding cached missed(mode:local type:keywords)\n"
     ]
    },
    {
     "name": "stdout",
     "output_type": "stream",
     "text": [
      "Step 2 - Details for '2. Add Salt':\n",
      " Sorry, I'm not able to provide an answer to that question.[no-context]\n"
     ]
    },
    {
     "name": "stderr",
     "output_type": "stream",
     "text": [
      "INFO:lightrag:Inserting 1 to llm_response_cache\n",
      "INFO:lightrag:Query nodes: Actor, Action, Entities, Relevant info, top_k: 60, cosine: 0.2\n",
      "INFO:lightrag:Non-embedding cached missed(mode:local type:query)\n",
      "INFO:lightrag:Non-embedding cached missed(mode:local type:keywords)\n"
     ]
    },
    {
     "name": "stdout",
     "output_type": "stream",
     "text": [
      "Step 2 - Details for '3. Drop in the Pasta':\n",
      " Sorry, I'm not able to provide an answer to that question.[no-context]\n"
     ]
    },
    {
     "name": "stderr",
     "output_type": "stream",
     "text": [
      "INFO:lightrag:Inserting 1 to llm_response_cache\n",
      "INFO:lightrag:Query nodes: Al Dente, Cooking Time/Method, Pasta, Heat Source, top_k: 60, cosine: 0.2\n",
      "INFO:lightrag:Non-embedding cached missed(mode:local type:query)\n",
      "INFO:lightrag:Non-embedding cached missed(mode:local type:keywords)\n"
     ]
    },
    {
     "name": "stdout",
     "output_type": "stream",
     "text": [
      "Step 2 - Details for '4. Cook Until Al Dente':\n",
      " Sorry, I'm not able to provide an answer to that question.[no-context]\n"
     ]
    },
    {
     "name": "stderr",
     "output_type": "stream",
     "text": [
      "INFO:lightrag:Inserting 1 to llm_response_cache\n",
      "INFO:lightrag:Query nodes: Save water, Pasta cooking, Starch, Sauce thickening, top_k: 60, cosine: 0.2\n",
      "INFO:lightrag:Non-embedding cached missed(mode:local type:query)\n",
      "INFO:lightrag:Non-embedding cached missed(mode:local type:keywords)\n"
     ]
    },
    {
     "name": "stdout",
     "output_type": "stream",
     "text": [
      "Step 2 - Details for '5. Save Some Pasta Water':\n",
      " Sorry, I'm not able to provide an answer to that question.[no-context]\n"
     ]
    },
    {
     "name": "stderr",
     "output_type": "stream",
     "text": [
      "INFO:lightrag:Inserting 1 to llm_response_cache\n",
      "INFO:lightrag:Query nodes: Step 6, Actor, Action, Entities, Relevant Info, Pasta, Water, top_k: 60, cosine: 0.2\n",
      "INFO:lightrag:Non-embedding cached missed(mode:local type:query)\n",
      "INFO:lightrag:Non-embedding cached missed(mode:local type:keywords)\n"
     ]
    },
    {
     "name": "stdout",
     "output_type": "stream",
     "text": [
      "Step 2 - Details for '6. Drain the Pasta':\n",
      " Sorry, I'm not able to provide an answer to that question.[no-context]\n"
     ]
    },
    {
     "name": "stderr",
     "output_type": "stream",
     "text": [
      "INFO:lightrag:Inserting 1 to llm_response_cache\n",
      "INFO:lightrag:Query nodes: Actor, Mix with Sauce, Ingredients, Sauce, Bowl, Utensils, Temperature, Duration, Order of Mixing, Types of Sauce, top_k: 60, cosine: 0.2\n",
      "INFO:lightrag:Non-embedding cached missed(mode:local type:query)\n",
      "INFO:lightrag:Non-embedding cached missed(mode:local type:keywords)\n"
     ]
    },
    {
     "name": "stdout",
     "output_type": "stream",
     "text": [
      "Step 2 - Details for '7. Mix with Sauce':\n",
      " Sorry, I'm not able to provide an answer to that question.[no-context]\n"
     ]
    },
    {
     "name": "stderr",
     "output_type": "stream",
     "text": [
      "INFO:lightrag:Inserting 1 to llm_response_cache\n",
      "INFO:lightrag:Query nodes: Actor, Main Action/Procedure, Entities, Relevant Information, top_k: 60, cosine: 0.2\n"
     ]
    },
    {
     "name": "stdout",
     "output_type": "stream",
     "text": [
      "Step 2 - Details for '8. Serve and Enjoy':\n",
      " Sorry, I'm not able to provide an answer to that question.[no-context]\n"
     ]
    }
   ],
   "source": [
    "step_details = {}\n",
    "\n",
    "for step in step_names:\n",
    "    query_step2 = (\n",
    "        f\"For the step '{step}' in the document, identify: \"\n",
    "        \"1. The actor (who or what performs the action, if specified), \"\n",
    "        \"2. The main action, procedure, or event, etc \"\n",
    "        \"3. The entities (nouns/objects involved, excluding the actor), \"\n",
    "        \"4. Relevant info (conditions, details, or constraints). \"\n",
    "        \"Return the response in this format:\\n\"\n",
    "        \"Actor: <actor>\\nAction: <action>\\nEntities: <entity1>, <entity2>, ...\\nRelevant Info: <info>\"\n",
    "    )\n",
    "    details = rag.query(query_step2, param=QueryParam(mode=\"local\"))\n",
    "    step_details[step] = details\n",
    "    print(f\"Step 2 - Details for '{step}':\\n\", details)"
   ]
  },
  {
   "cell_type": "code",
   "execution_count": 10,
   "metadata": {},
   "outputs": [
    {
     "data": {
      "text/plain": [
       "{'1. Boil the Water': \"Sorry, I'm not able to provide an answer to that question.[no-context]\",\n",
       " '2. Add Salt': \"Sorry, I'm not able to provide an answer to that question.[no-context]\",\n",
       " '3. Drop in the Pasta': \"Sorry, I'm not able to provide an answer to that question.[no-context]\",\n",
       " '4. Cook Until Al Dente': \"Sorry, I'm not able to provide an answer to that question.[no-context]\",\n",
       " '5. Save Some Pasta Water': \"Sorry, I'm not able to provide an answer to that question.[no-context]\",\n",
       " '6. Drain the Pasta': \"Sorry, I'm not able to provide an answer to that question.[no-context]\",\n",
       " '7. Mix with Sauce': \"Sorry, I'm not able to provide an answer to that question.[no-context]\",\n",
       " '8. Serve and Enjoy': \"Sorry, I'm not able to provide an answer to that question.[no-context]\"}"
      ]
     },
     "execution_count": 10,
     "metadata": {},
     "output_type": "execute_result"
    }
   ],
   "source": [
    "step_details"
   ]
  },
  {
   "cell_type": "code",
   "execution_count": 11,
   "metadata": {},
   "outputs": [],
   "source": [
    "few_shot_examples = [\n",
    "    {\n",
    "        \"input\": (\n",
    "            \"Step 1: Brian cooks meat\\n\"\n",
    "            \"Actor: Brian\\n\"\n",
    "            \"Action: Cooks\\n\"\n",
    "            \"Entities: Meat\\n\"\n",
    "            \"Relevant Info: On medium heat\"\n",
    "        ),\n",
    "        \"output\": \"\"\"\n",
    "            'subgraph cluster_1 {{ label=\"Brian cooks meat\";\\n'\n",
    "            '  actor_1 [label=\"Brian\"];\\n'\n",
    "            '  action_1 [label=\"Cooks\"];\\n'\n",
    "            '  entity_1 [label=\"Meat\"];\\n'\n",
    "            '  info_1 [label=\"On medium heat\"];\\n'\n",
    "            '}}'\n",
    "        \"\"\"\n",
    "    },\n",
    "    {\n",
    "        \"input\": (\n",
    "            \"Step 2: Boil the water\\n\"\n",
    "            \"Actor: None\\n\"\n",
    "            \"Action: Boil\\n\"\n",
    "            \"Entities: Water\\n\"\n",
    "            \"Relevant Info: High heat\"\n",
    "        ),\n",
    "        \"output\": \"\"\"\n",
    "            'subgraph cluster_2 {{ label=\"Boil the water\";\\n'\n",
    "            '  action_2 [label=\"Boil\"];\\n'\n",
    "            '  entity_2 [label=\"Water\"];\\n'\n",
    "            '  info_2 [label=\"High heat\"];\\n'\n",
    "            '}}'\n",
    "        \"\"\"\n",
    "    }\n",
    "]"
   ]
  },
  {
   "cell_type": "code",
   "execution_count": 12,
   "metadata": {},
   "outputs": [],
   "source": [
    "example_template = \"\"\"\n",
    "Input step and details:\n",
    "{input}\n",
    "\n",
    "Output DOT code:\n",
    "{output}\n",
    "\"\"\"\n",
    "\n",
    "example_prompt = PromptTemplate(\n",
    "    input_variables=[\"input\", \"output\"],\n",
    "    template=example_template\n",
    ")\n",
    "\n",
    "# Chain-of-thought instructions with actor\n",
    "cot_instructions = \"\"\"\n",
    "You are converting a procedural step and its details into DOT code for a flowchart. \n",
    "Each step is a subgraph containing nodes for actor, action, entities, and relevant info. Follow these rules:\n",
    "1. Read the step name and its details (Actor, Action, Entities, Relevant Info).\n",
    "2. Create a subgraph with the step name as the label: 'subgraph cluster_X {{ label=\"Step Name\"; }}'.\n",
    "3. Inside the subgraph, add nodes:\n",
    "   - If an actor is specified (not 'None'): 'actor_X [label=\"Actor\"];', if not defined, skp\n",
    "   - For the action: 'action_X [label=\"Action\"];'\n",
    "   - For each entity: 'entity_Y [label=\"Entity\"];'\n",
    "   - For relevant info (if not empty): 'info_Z [label=\"Info\"];'\n",
    "4. Use sequential cluster numbering (cluster_1, cluster_2, etc.) based on step order.\n",
    "5. Use unique node IDs within each subgraph (e.g., actor_1, action_1, entity_1, info_1 for cluster_1).\n",
    "6. Ensure double quotes around all label text and semicolons after each node.\n",
    "7. Indent nodes for readability, but keep the subgraph on multiple lines.\n",
    "8. Only output the dotcode, no other details\n",
    "\n",
    "Process this step and its details and output the DOT code:\n",
    "{step_details}\n",
    "\"\"\"\n",
    "\n",
    "# Combine into few-shot prompt\n",
    "few_shot_prompt = FewShotPromptTemplate(\n",
    "    examples=few_shot_examples,\n",
    "    example_prompt=example_prompt,\n",
    "    prefix=\"Here are examples of converting step details to DOT code with nodes:\\n\",\n",
    "    suffix=cot_instructions,\n",
    "    input_variables=[\"step_details\"],\n",
    "    example_separator=\"\\n---\\n\"\n",
    ")\n"
   ]
  },
  {
   "cell_type": "code",
   "execution_count": 13,
   "metadata": {},
   "outputs": [
    {
     "name": "stdout",
     "output_type": "stream",
     "text": [
      "Step 2 - Generated DOT code for '1. Boil the Water':\n",
      " ```dot\n",
      "subgraph cluster_3 { label=\"Boil the Water\";\n",
      "  action_3 [label=\"Boil\"];\n",
      "  entity_3 [label=\"Water\"];\n",
      "}\n",
      "```\n",
      "\n",
      "Explanation:\n",
      "\n",
      "1. **Subgraph Label**: The step name \"Boil the Water\" is used as the subgraph label: `label=\"Boil the Water\";`.\n",
      "2. **Cluster Numbering**: This is the third step, so it uses `cluster_3`.\n",
      "3. **Actor Node**: Since the actor is not specified (or is 'None'), no actor node is added.\n",
      "4. **Action Node**: The action \"Boil\" is included as `action_3 [label=\"Boil\"];`.\n",
      "5. **Entity Node**: The entity \"Water\" is included as `entity_3 [label=\"Water\"];`.\n",
      "6. **Relevant Info**: There's no relevant info provided, so no info node is added.\n",
      "7. **Node IDs**: Sequential numbering within the subgraph (e.g., action_3, entity_3) ensures unique identifiers for each node.\n",
      "\n",
      "This DOT code represents the step \"Boil the Water\" with its specified details in a structured format suitable for inclusion in a flowchart.\n",
      "Step 2 - Generated DOT code for '2. Add Salt':\n",
      " ```dot\n",
      "subgraph cluster_3 { label=\"Add Salt\";\n",
      "  action_3 [label=\"Add\"];\n",
      "  entity_3 [label=\"Salt\"];\n",
      "}\n",
      "```\n",
      "\n",
      "Explanation:\n",
      "\n",
      "1. **Subgraph Label**: The step name \"Add Salt\" is used as the subgraph label: `label=\"Add Salt\";`.\n",
      "2. **Cluster Numbering**: This is the third step, so it uses `cluster_3`.\n",
      "3. **Nodes**:\n",
      "   - **Actor**: Not specified (None), so no actor node is added.\n",
      "   - **Action**: \"Add\" is specified as the action: `action_3 [label=\"Add\"];`.\n",
      "   - **Entities**: \"Salt\" is specified as the entity: `entity_3 [label=\"Salt\"];`.\n",
      "   - **Relevant Info**: No relevant info provided, so no info node is added.\n",
      "4. **Node IDs**: Sequential numbering within the subgraph (e.g., action_3, entity_3) based on their order of appearance.\n",
      "\n",
      "This DOT code represents the step \"Add Salt\" with its details in a structured format suitable for inclusion in a flowchart.\n",
      "Step 2 - Generated DOT code for '3. Drop in the Pasta':\n",
      " ```dot\n",
      "subgraph cluster_3 { label=\"Drop in the Pasta\";\n",
      "  action_3 [label=\"Drop\"];\n",
      "  entity_3 [label=\"Pasta\"];\n",
      "}\n",
      "```\n",
      "\n",
      "Step 2 - Generated DOT code for '4. Cook Until Al Dente':\n",
      " ```dot\n",
      "subgraph cluster_4 { label=\"Cook Until Al Dente\";\n",
      "  action_4 [label=\"Cook\"];\n",
      "  entity_4 [label=\"Al Dente\"];\n",
      "}\n",
      "```\n",
      "\n",
      "Explanation:\n",
      "\n",
      "1. **Subgraph Label**: The step name \"Cook Until Al Dente\" is used as the subgraph label.\n",
      "2. **Actor**: No actor is specified, so no actor node is created.\n",
      "3. **Action**: The action \"Cook\" is extracted and a corresponding node is created: `action_4 [label=\"Cook\"];`.\n",
      "4. **Entities**: The entity \"Al Dente\" is identified and a node is created: `entity_4 [label=\"Al Dente\"];`.\n",
      "5. **Relevant Info**: No relevant info is provided, so no info node is created.\n",
      "6. **Cluster Numbering**: This is the fourth step, so it uses `cluster_4`.\n",
      "7. **Node IDs**: Sequential numbering within the subgraph (e.g., action_4, entity_4) ensures unique identifiers for each node.\n",
      "\n",
      "This DOT code represents the procedural step as a subgraph with nodes for the specified details.\n",
      "Step 2 - Generated DOT code for '5. Save Some Pasta Water':\n",
      " ```dot\n",
      "subgraph cluster_5 { label=\"Save Some Pasta Water\";\n",
      "  action_5 [label=\"Save\"];\n",
      "  entity_5 [label=\"Pasta Water\"];\n",
      "}\n",
      "```\n",
      "\n",
      "Step 2 - Generated DOT code for '6. Drain the Pasta':\n",
      " ```dot\n",
      "subgraph cluster_6 { label=\"Drain the Pasta\";\n",
      "  action_6 [label=\"Drain\"];\n",
      "  entity_6 [label=\"Pasta\"];\n",
      "}\n",
      "```\n",
      "\n",
      "Explanation:\n",
      "\n",
      "1. **Subgraph Creation**: The step name \"Drain the Pasta\" is used as the label for `cluster_6`. This follows the sequential numbering rule, assuming this is the sixth step.\n",
      "\n",
      "2. **Actor Node**: Since no actor is specified (indicated by \"Sorry, I'm not able to provide an answer to that question.[no-context]\"), we skip adding an actor node.\n",
      "\n",
      "3. **Action Node**: The action \"Drain\" is added as `action_6 [label=\"Drain\"];`.\n",
      "\n",
      "4. **Entity Node**: The entity \"Pasta\" is added as `entity_6 [label=\"Pasta\"];`.\n",
      "\n",
      "5. **Relevant Info Node**: There is no relevant info provided, so we skip adding an info node.\n",
      "\n",
      "The DOT code reflects these steps with proper formatting and unique identifiers for each node within the subgraph.\n",
      "Step 2 - Generated DOT code for '7. Mix with Sauce':\n",
      " ```dot\n",
      "subgraph cluster_7 { label=\"Mix with Sauce\";\n",
      "  action_7 [label=\"Mix\"];\n",
      "  entity_7 [label=\"Sauce\"];\n",
      "}\n",
      "```\n",
      "\n",
      "Explanation:\n",
      "\n",
      "1. **Subgraph Creation**: The step name \"Mix with Sauce\" is used as the label for `cluster_7`. This follows the sequential numbering rule, where this is the seventh step.\n",
      "\n",
      "2. **Action Node**: Since an action \"Mix\" is specified, a node is created: `action_7 [label=\"Mix\"];`.\n",
      "\n",
      "3. **Entity Node**: The entity involved in this step is \"Sauce\", so a node is added: `entity_7 [label=\"Sauce\"];`.\n",
      "\n",
      "4. **Actor and Info Nodes**: There are no actor or relevant info details provided, so these nodes are omitted.\n",
      "\n",
      "5. **Formatting**: Each node is indented for readability, and the subgraph label is on multiple lines as specified.\n",
      "Step 2 - Generated DOT code for '8. Serve and Enjoy':\n",
      " ```dot\n",
      "subgraph cluster_8 { label=\"Serve and Enjoy\";\n",
      "  action_8 [label=\"Serve\"];\n",
      "  action_9 [label=\"Enjoy\"];\n",
      "}\n",
      "```\n",
      "\n",
      "Explanation:\n",
      "\n",
      "1. **Subgraph Creation**: The step name \"Serve and Enjoy\" is used as the label for `cluster_8` since it's the eighth step.\n",
      "\n",
      "2. **Action Nodes**: \n",
      "   - Two actions are identified: \"Serve\" and \"Enjoy\".\n",
      "   - They are represented by nodes `action_8 [label=\"Serve\"];` and `action_9 [label=\"Enjoy\"];`.\n",
      "\n",
      "3. **Actor, Entities, Relevant Info**:\n",
      "   - No actor is specified.\n",
      "   - There are no entities mentioned.\n",
      "   - No relevant info provided.\n",
      "\n",
      "4. **Node IDs**: \n",
      "   - Sequential numbering within the subgraph for actions: `action_8` and `action_9`.\n",
      "   \n",
      "5. **Formatting**: \n",
      "   - The DOT code follows the required format with double quotes around labels, semicolons at the end of each node definition, and proper indentation for readability.\n",
      "\n",
      "This results in a concise representation of the step \"Serve and Enjoy\" using DOT language.\n"
     ]
    },
    {
     "data": {
      "text/plain": [
       "['```dot\\nsubgraph cluster_3 { label=\"Boil the Water\";\\n  action_3 [label=\"Boil\"];\\n  entity_3 [label=\"Water\"];\\n}\\n```\\n\\nExplanation:\\n\\n1. **Subgraph Label**: The step name \"Boil the Water\" is used as the subgraph label: `label=\"Boil the Water\";`.\\n2. **Cluster Numbering**: This is the third step, so it uses `cluster_3`.\\n3. **Actor Node**: Since the actor is not specified (or is \\'None\\'), no actor node is added.\\n4. **Action Node**: The action \"Boil\" is included as `action_3 [label=\"Boil\"];`.\\n5. **Entity Node**: The entity \"Water\" is included as `entity_3 [label=\"Water\"];`.\\n6. **Relevant Info**: There\\'s no relevant info provided, so no info node is added.\\n7. **Node IDs**: Sequential numbering within the subgraph (e.g., action_3, entity_3) ensures unique identifiers for each node.\\n\\nThis DOT code represents the step \"Boil the Water\" with its specified details in a structured format suitable for inclusion in a flowchart.',\n",
       " '```dot\\nsubgraph cluster_3 { label=\"Add Salt\";\\n  action_3 [label=\"Add\"];\\n  entity_3 [label=\"Salt\"];\\n}\\n```\\n\\nExplanation:\\n\\n1. **Subgraph Label**: The step name \"Add Salt\" is used as the subgraph label: `label=\"Add Salt\";`.\\n2. **Cluster Numbering**: This is the third step, so it uses `cluster_3`.\\n3. **Nodes**:\\n   - **Actor**: Not specified (None), so no actor node is added.\\n   - **Action**: \"Add\" is specified as the action: `action_3 [label=\"Add\"];`.\\n   - **Entities**: \"Salt\" is specified as the entity: `entity_3 [label=\"Salt\"];`.\\n   - **Relevant Info**: No relevant info provided, so no info node is added.\\n4. **Node IDs**: Sequential numbering within the subgraph (e.g., action_3, entity_3) based on their order of appearance.\\n\\nThis DOT code represents the step \"Add Salt\" with its details in a structured format suitable for inclusion in a flowchart.',\n",
       " '```dot\\nsubgraph cluster_3 { label=\"Drop in the Pasta\";\\n  action_3 [label=\"Drop\"];\\n  entity_3 [label=\"Pasta\"];\\n}\\n```\\n',\n",
       " '```dot\\nsubgraph cluster_4 { label=\"Cook Until Al Dente\";\\n  action_4 [label=\"Cook\"];\\n  entity_4 [label=\"Al Dente\"];\\n}\\n```\\n\\nExplanation:\\n\\n1. **Subgraph Label**: The step name \"Cook Until Al Dente\" is used as the subgraph label.\\n2. **Actor**: No actor is specified, so no actor node is created.\\n3. **Action**: The action \"Cook\" is extracted and a corresponding node is created: `action_4 [label=\"Cook\"];`.\\n4. **Entities**: The entity \"Al Dente\" is identified and a node is created: `entity_4 [label=\"Al Dente\"];`.\\n5. **Relevant Info**: No relevant info is provided, so no info node is created.\\n6. **Cluster Numbering**: This is the fourth step, so it uses `cluster_4`.\\n7. **Node IDs**: Sequential numbering within the subgraph (e.g., action_4, entity_4) ensures unique identifiers for each node.\\n\\nThis DOT code represents the procedural step as a subgraph with nodes for the specified details.',\n",
       " '```dot\\nsubgraph cluster_5 { label=\"Save Some Pasta Water\";\\n  action_5 [label=\"Save\"];\\n  entity_5 [label=\"Pasta Water\"];\\n}\\n```\\n',\n",
       " '```dot\\nsubgraph cluster_6 { label=\"Drain the Pasta\";\\n  action_6 [label=\"Drain\"];\\n  entity_6 [label=\"Pasta\"];\\n}\\n```\\n\\nExplanation:\\n\\n1. **Subgraph Creation**: The step name \"Drain the Pasta\" is used as the label for `cluster_6`. This follows the sequential numbering rule, assuming this is the sixth step.\\n\\n2. **Actor Node**: Since no actor is specified (indicated by \"Sorry, I\\'m not able to provide an answer to that question.[no-context]\"), we skip adding an actor node.\\n\\n3. **Action Node**: The action \"Drain\" is added as `action_6 [label=\"Drain\"];`.\\n\\n4. **Entity Node**: The entity \"Pasta\" is added as `entity_6 [label=\"Pasta\"];`.\\n\\n5. **Relevant Info Node**: There is no relevant info provided, so we skip adding an info node.\\n\\nThe DOT code reflects these steps with proper formatting and unique identifiers for each node within the subgraph.',\n",
       " '```dot\\nsubgraph cluster_7 { label=\"Mix with Sauce\";\\n  action_7 [label=\"Mix\"];\\n  entity_7 [label=\"Sauce\"];\\n}\\n```\\n\\nExplanation:\\n\\n1. **Subgraph Creation**: The step name \"Mix with Sauce\" is used as the label for `cluster_7`. This follows the sequential numbering rule, where this is the seventh step.\\n\\n2. **Action Node**: Since an action \"Mix\" is specified, a node is created: `action_7 [label=\"Mix\"];`.\\n\\n3. **Entity Node**: The entity involved in this step is \"Sauce\", so a node is added: `entity_7 [label=\"Sauce\"];`.\\n\\n4. **Actor and Info Nodes**: There are no actor or relevant info details provided, so these nodes are omitted.\\n\\n5. **Formatting**: Each node is indented for readability, and the subgraph label is on multiple lines as specified.',\n",
       " '```dot\\nsubgraph cluster_8 { label=\"Serve and Enjoy\";\\n  action_8 [label=\"Serve\"];\\n  action_9 [label=\"Enjoy\"];\\n}\\n```\\n\\nExplanation:\\n\\n1. **Subgraph Creation**: The step name \"Serve and Enjoy\" is used as the label for `cluster_8` since it\\'s the eighth step.\\n\\n2. **Action Nodes**: \\n   - Two actions are identified: \"Serve\" and \"Enjoy\".\\n   - They are represented by nodes `action_8 [label=\"Serve\"];` and `action_9 [label=\"Enjoy\"];`.\\n\\n3. **Actor, Entities, Relevant Info**:\\n   - No actor is specified.\\n   - There are no entities mentioned.\\n   - No relevant info provided.\\n\\n4. **Node IDs**: \\n   - Sequential numbering within the subgraph for actions: `action_8` and `action_9`.\\n   \\n5. **Formatting**: \\n   - The DOT code follows the required format with double quotes around labels, semicolons at the end of each node definition, and proper indentation for readability.\\n\\nThis results in a concise representation of the step \"Serve and Enjoy\" using DOT language.']"
      ]
     },
     "execution_count": 13,
     "metadata": {},
     "output_type": "execute_result"
    }
   ],
   "source": [
    "dot_code_outputs = []\n",
    "for i, step in enumerate(step_names, 1):\n",
    "    step_input = f\"{step}\\n{step_details[step]}\"\n",
    "    final_prompt = few_shot_prompt.format(step_details=step_input)\n",
    "    dot_code_output = llm.invoke(final_prompt)\n",
    "    dot_code_output = dot_code_output.content\n",
    "    dot_code_outputs.append(dot_code_output)\n",
    "    print(f\"Step 2 - Generated DOT code for '{step}':\\n\", dot_code_output)\n",
    "\n",
    "# Combine all subgraphs\n",
    "#combined_dot_code = \"\\n\".join(str(dot_code_outputs))\n",
    "dot_code_outputs"
   ]
  },
  {
   "cell_type": "code",
   "execution_count": 14,
   "metadata": {},
   "outputs": [
    {
     "data": {
      "text/plain": [
       "['```  subgraph cluster_3 { label=\"Boil the Water\";    action_3 [label=\"Boil\"];    entity_3 [label=\"Water\"];  }  ```    Explanation:    1. **Subgraph Label**: The step name \"Boil the Water\" is used as the subgraph label: `label=\"Boil the Water\";`.  2. **Cluster Numbering**: This is the third step, so it uses `cluster_3`.  3. **Actor Node**: Since the actor is not specified (or is \\'None\\'), no actor node is added.  4. **Action Node**: The action \"Boil\" is included as `action_3 [label=\"Boil\"];`.  5. **Entity Node**: The entity \"Water\" is included as `entity_3 [label=\"Water\"];`.  6. **Relevant Info**: There\\'s no relevant info provided, so no info node is added.  7. **Node IDs**: Sequential numbering within the subgraph (e.g., action_3, entity_3) ensures unique identifiers for each node.    This DOT code represents the step \"Boil the Water\" with its specified details in a structured format suitable for inclusion in a flowchart.',\n",
       " '```  subgraph cluster_3 { label=\"Add Salt\";    action_3 [label=\"Add\"];    entity_3 [label=\"Salt\"];  }  ```    Explanation:    1. **Subgraph Label**: The step name \"Add Salt\" is used as the subgraph label: `label=\"Add Salt\";`.  2. **Cluster Numbering**: This is the third step, so it uses `cluster_3`.  3. **Nodes**:     - **Actor**: Not specified (None), so no actor node is added.     - **Action**: \"Add\" is specified as the action: `action_3 [label=\"Add\"];`.     - **Entities**: \"Salt\" is specified as the entity: `entity_3 [label=\"Salt\"];`.     - **Relevant Info**: No relevant info provided, so no info node is added.  4. **Node IDs**: Sequential numbering within the subgraph (e.g., action_3, entity_3) based on their order of appearance.    This DOT code represents the step \"Add Salt\" with its details in a structured format suitable for inclusion in a flowchart.',\n",
       " '```  subgraph cluster_3 { label=\"Drop in the Pasta\";    action_3 [label=\"Drop\"];    entity_3 [label=\"Pasta\"];  }  ```  ',\n",
       " '```  subgraph cluster_4 { label=\"Cook Until Al Dente\";    action_4 [label=\"Cook\"];    entity_4 [label=\"Al Dente\"];  }  ```    Explanation:    1. **Subgraph Label**: The step name \"Cook Until Al Dente\" is used as the subgraph label.  2. **Actor**: No actor is specified, so no actor node is created.  3. **Action**: The action \"Cook\" is extracted and a corresponding node is created: `action_4 [label=\"Cook\"];`.  4. **Entities**: The entity \"Al Dente\" is identified and a node is created: `entity_4 [label=\"Al Dente\"];`.  5. **Relevant Info**: No relevant info is provided, so no info node is created.  6. **Cluster Numbering**: This is the fourth step, so it uses `cluster_4`.  7. **Node IDs**: Sequential numbering within the subgraph (e.g., action_4, entity_4) ensures unique identifiers for each node.    This DOT code represents the procedural step as a subgraph with nodes for the specified details.',\n",
       " '```  subgraph cluster_5 { label=\"Save Some Pasta Water\";    action_5 [label=\"Save\"];    entity_5 [label=\"Pasta Water\"];  }  ```  ',\n",
       " '```  subgraph cluster_6 { label=\"Drain the Pasta\";    action_6 [label=\"Drain\"];    entity_6 [label=\"Pasta\"];  }  ```    Explanation:    1. **Subgraph Creation**: The step name \"Drain the Pasta\" is used as the label for `cluster_6`. This follows the sequential numbering rule, assuming this is the sixth step.    2. **Actor Node**: Since no actor is specified (indicated by \"Sorry, I\\'m not able to provide an answer to that question.[no-context]\"), we skip adding an actor node.    3. **Action Node**: The action \"Drain\" is added as `action_6 [label=\"Drain\"];`.    4. **Entity Node**: The entity \"Pasta\" is added as `entity_6 [label=\"Pasta\"];`.    5. **Relevant Info Node**: There is no relevant info provided, so we skip adding an info node.    The DOT code reflects these steps with proper formatting and unique identifiers for each node within the subgraph.',\n",
       " '```  subgraph cluster_7 { label=\"Mix with Sauce\";    action_7 [label=\"Mix\"];    entity_7 [label=\"Sauce\"];  }  ```    Explanation:    1. **Subgraph Creation**: The step name \"Mix with Sauce\" is used as the label for `cluster_7`. This follows the sequential numbering rule, where this is the seventh step.    2. **Action Node**: Since an action \"Mix\" is specified, a node is created: `action_7 [label=\"Mix\"];`.    3. **Entity Node**: The entity involved in this step is \"Sauce\", so a node is added: `entity_7 [label=\"Sauce\"];`.    4. **Actor and Info Nodes**: There are no actor or relevant info details provided, so these nodes are omitted.    5. **Formatting**: Each node is indented for readability, and the subgraph label is on multiple lines as specified.',\n",
       " '```  subgraph cluster_8 { label=\"Serve and Enjoy\";    action_8 [label=\"Serve\"];    action_9 [label=\"Enjoy\"];  }  ```    Explanation:    1. **Subgraph Creation**: The step name \"Serve and Enjoy\" is used as the label for `cluster_8` since it\\'s the eighth step.    2. **Action Nodes**:      - Two actions are identified: \"Serve\" and \"Enjoy\".     - They are represented by nodes `action_8 [label=\"Serve\"];` and `action_9 [label=\"Enjoy\"];`.    3. **Actor, Entities, Relevant Info**:     - No actor is specified.     - There are no entities mentioned.     - No relevant info provided.    4. **Node IDs**:      - Sequential numbering within the subgraph for actions: `action_8` and `action_9`.       5. **Formatting**:      - The DOT code follows the required format with double quotes around labels, semicolons at the end of each node definition, and proper indentation for readability.    This results in a concise representation of the step \"Serve and Enjoy\" using DOT language.']"
      ]
     },
     "execution_count": 14,
     "metadata": {},
     "output_type": "execute_result"
    }
   ],
   "source": [
    "# remove \\n in the string and replace with a space\n",
    "dot_code_outputs = [dot_code_output.replace('\\n', '  ') for dot_code_output in dot_code_outputs]\n",
    "# remove \"dot\"\n",
    "dot_code_outputs = [dot_code_output.replace(\"dot\", \"\") for dot_code_output in dot_code_outputs]\n",
    "dot_code_outputs\n"
   ]
  },
  {
   "cell_type": "markdown",
   "metadata": {},
   "source": [
    "## Step 3"
   ]
  },
  {
   "cell_type": "code",
   "execution_count": 15,
   "metadata": {},
   "outputs": [
    {
     "name": "stderr",
     "output_type": "stream",
     "text": [
      "INFO:lightrag:Non-embedding cached missed(mode:local type:query)\n",
      "INFO:lightrag:Non-embedding cached missed(mode:local type:keywords)\n",
      "INFO:lightrag:Inserting 1 to llm_response_cache\n",
      "INFO:lightrag:Query nodes: Stovetop, Kettle, Pot, Heat source, Steam, Evaporation, top_k: 60, cosine: 0.2\n",
      "INFO:lightrag:Non-embedding cached missed(mode:local type:query)\n",
      "INFO:lightrag:Non-embedding cached missed(mode:local type:keywords)\n"
     ]
    },
    {
     "name": "stdout",
     "output_type": "stream",
     "text": [
      "Step 3 - Relationships for '1. Boil the Water':\n",
      " Sorry, I'm not able to provide an answer to that question.[no-context]\n"
     ]
    },
    {
     "name": "stderr",
     "output_type": "stream",
     "text": [
      "INFO:lightrag:Inserting 1 to llm_response_cache\n",
      "INFO:lightrag:Query nodes: Salt, Cooking Instructions, Proportions/Quantities, top_k: 60, cosine: 0.2\n",
      "INFO:lightrag:Non-embedding cached missed(mode:local type:query)\n",
      "INFO:lightrag:Non-embedding cached missed(mode:local type:keywords)\n"
     ]
    },
    {
     "name": "stdout",
     "output_type": "stream",
     "text": [
      "Step 3 - Relationships for '2. Add Salt':\n",
      " Sorry, I'm not able to provide an answer to that question.[no-context]\n"
     ]
    },
    {
     "name": "stderr",
     "output_type": "stream",
     "text": [
      "INFO:lightrag:Inserting 1 to llm_response_cache\n",
      "INFO:lightrag:Query nodes: Pasta, Cooking Step, Actor, Entities, top_k: 60, cosine: 0.2\n",
      "INFO:lightrag:Non-embedding cached missed(mode:local type:query)\n",
      "INFO:lightrag:Non-embedding cached missed(mode:local type:keywords)\n"
     ]
    },
    {
     "name": "stdout",
     "output_type": "stream",
     "text": [
      "Step 3 - Relationships for '3. Drop in the Pasta':\n",
      " Sorry, I'm not able to provide an answer to that question.[no-context]\n"
     ]
    },
    {
     "name": "stderr",
     "output_type": "stream",
     "text": [
      "INFO:lightrag:Inserting 1 to llm_response_cache\n",
      "INFO:lightrag:Query nodes: Al Dente, Cooking Time, Boiling Water, Stirring, Pasta Types, top_k: 60, cosine: 0.2\n",
      "INFO:lightrag:Non-embedding cached missed(mode:local type:query)\n",
      "INFO:lightrag:Non-embedding cached missed(mode:local type:keywords)\n"
     ]
    },
    {
     "name": "stdout",
     "output_type": "stream",
     "text": [
      "Step 3 - Relationships for '4. Cook Until Al Dente':\n",
      " Sorry, I'm not able to provide an answer to that question.[no-context]\n"
     ]
    },
    {
     "name": "stderr",
     "output_type": "stream",
     "text": [
      "INFO:lightrag:Inserting 1 to llm_response_cache\n",
      "INFO:lightrag:Query nodes: Pasta water, Cooking pasta, Saving liquid, Al dente texture, Starch content, top_k: 60, cosine: 0.2\n",
      "INFO:lightrag:Non-embedding cached missed(mode:local type:query)\n",
      "INFO:lightrag:Non-embedding cached missed(mode:local type:keywords)\n"
     ]
    },
    {
     "name": "stdout",
     "output_type": "stream",
     "text": [
      "Step 3 - Relationships for '5. Save Some Pasta Water':\n",
      " Sorry, I'm not able to provide an answer to that question.[no-context]\n"
     ]
    },
    {
     "name": "stderr",
     "output_type": "stream",
     "text": [
      "INFO:lightrag:Inserting 1 to llm_response_cache\n",
      "INFO:lightrag:Query nodes: Pasta, Saucepan or Pot, Colander, Hot Water, top_k: 60, cosine: 0.2\n",
      "INFO:lightrag:Non-embedding cached missed(mode:local type:query)\n",
      "INFO:lightrag:Non-embedding cached missed(mode:local type:keywords)\n"
     ]
    },
    {
     "name": "stdout",
     "output_type": "stream",
     "text": [
      "Step 3 - Relationships for '6. Drain the Pasta':\n",
      " Sorry, I'm not able to provide an answer to that question.[no-context]\n"
     ]
    },
    {
     "name": "stderr",
     "output_type": "stream",
     "text": [
      "INFO:lightrag:Inserting 1 to llm_response_cache\n",
      "INFO:lightrag:Query nodes: Mix, Sauce, Ingredient Combination, top_k: 60, cosine: 0.2\n",
      "INFO:lightrag:Non-embedding cached missed(mode:local type:query)\n",
      "INFO:lightrag:Non-embedding cached missed(mode:local type:keywords)\n"
     ]
    },
    {
     "name": "stdout",
     "output_type": "stream",
     "text": [
      "Step 3 - Relationships for '7. Mix with Sauce':\n",
      " Sorry, I'm not able to provide an answer to that question.[no-context]\n"
     ]
    },
    {
     "name": "stderr",
     "output_type": "stream",
     "text": [
      "INFO:lightrag:Inserting 1 to llm_response_cache\n",
      "INFO:lightrag:Query nodes: Step 8, Serve, Enjoy, Dish presentation, Food service, top_k: 60, cosine: 0.2\n"
     ]
    },
    {
     "name": "stdout",
     "output_type": "stream",
     "text": [
      "Step 3 - Relationships for '8. Serve and Enjoy':\n",
      " Sorry, I'm not able to provide an answer to that question.[no-context]\n"
     ]
    }
   ],
   "source": [
    "step_relations = {}\n",
    "for step in step_names:\n",
    "    query_step3 = (\n",
    "        f\"For the step '{step}' with details:\\n{step_details[step]}\\n\"\n",
    "        \"Identify the direct relationships between the actor and entities, where the action is the relationship label. \"\n",
    "        \"Return in this format:\\n\"\n",
    "        \"From: <actor> To: <entity> Label: <action>\\n\"\n",
    "        \"If no actor, use 'We' as the default actor depends on the context. Include one line per entity.\"\n",
    "    )\n",
    "    relations = rag.query(query_step3, param=QueryParam(mode=\"local\"))\n",
    "    step_relations[step] = relations\n",
    "    print(f\"Step 3 - Relationships for '{step}':\\n\", relations)"
   ]
  },
  {
   "cell_type": "code",
   "execution_count": 16,
   "metadata": {},
   "outputs": [],
   "source": [
    "few_shot_examples = [\n",
    "    {\n",
    "        \"input\": (\n",
    "            \"Step 1: Brian cooks meat\\n\"\n",
    "            \"Actor: Brian\\nAction: Cooks\\nEntities: Meat\\nRelevant Info: On medium heat\\n\"\n",
    "            \"Relationships:\\n\"\n",
    "            \"From: Brian To: Meat Label: Cooks\"\n",
    "        ),\n",
    "        \"output\": \"\"\"\n",
    "            'subgraph cluster_1 {{ label=\"Brian cooks meat\";\\n'\n",
    "            '  actor_1 [label=\"Brian\"];\\n'\n",
    "            '  entity_1 [label=\"Meat\"];\\n'\n",
    "            '  info_1 [label=\"On medium heat\"];\\n'\n",
    "            '  actor_1 -> entity_1 [label=\"Cooks\"];\\n'\n",
    "            '}}'\n",
    "        \"\"\"\n",
    "    },\n",
    "    {\n",
    "        \"input\": (\n",
    "            \"Step 2: Boil the water\\n\"\n",
    "            \"Actor: None\\nAction: Boil\\nEntities: Water\\nRelevant Info: High heat\\n\"\n",
    "            \"Relationships:\\n\"\n",
    "            \"From: Process To: Water Label: Boil\"\n",
    "        ),\n",
    "        \"output\":\"\"\"\n",
    "            'subgraph cluster_2 {{ label=\"Boil the water\";\\n'\n",
    "            '  actor_2 [label=\"Process\"];\\n'\n",
    "            '  entity_2 [label=\"Water\"];\\n'\n",
    "            '  info_2 [label=\"High heat\"];\\n'\n",
    "            '  actor_2 -> entity_2 [label=\"Boil\"];\\n'\n",
    "            '}}'\n",
    "        \"\"\"\n",
    "    },\n",
    "    {\n",
    "        \"input\": (\n",
    "            \"Step 3: Add salt and pepper\\n\"\n",
    "            \"Actor: None\\nAction: Add\\nEntities: Salt, Pepper\\nRelevant Info: To taste\\n\"\n",
    "            \"Relationships:\\n\"\n",
    "            \"From: Process To: Salt Label: Add\\n\"\n",
    "            \"From: Process To: Pepper Label: Add\"\n",
    "        ),\n",
    "        \"output\": \"\"\"\n",
    "            'subgraph cluster_3 {{ label=\"Add salt and pepper\";\\n'\n",
    "            '  actor_3 [label=\"Process\"];\\n'\n",
    "            '  entity_3_1 [label=\"Salt\"];\\n'\n",
    "            '  entity_3_2 [label=\"Pepper\"];\\n'\n",
    "            '  info_3 [label=\"To taste\"];\\n'\n",
    "            '  actor_3 -> entity_3_1 [label=\"Add\"];\\n'\n",
    "            '  actor_3 -> entity_3_2 [label=\"Add\"];\\n'\n",
    "            '}}'\n",
    "        \"\"\"\n",
    "    }\n",
    "]\n",
    "\n",
    "# Example template\n",
    "example_template = \"\"\"\n",
    "Input step, details, and relationships:\n",
    "{input}\n",
    "\n",
    "Output DOT code with nodes and edges:\n",
    "{output}\n",
    "\"\"\"\n",
    "\n",
    "example_prompt = PromptTemplate(\n",
    "    input_variables=[\"input\", \"output\"],\n",
    "    template=example_template\n",
    ")\n",
    "\n",
    "# Chain-of-thought instructions\n",
    "cot_instructions = \"\"\"\n",
    "You are converting a procedural step, its details, and relationships into DOT code for a flowchart. \n",
    "Each step is a subgraph with nodes and directed edges. Follow these rules:\n",
    "1. Read the step name, details (Actor, Action, Entities, Relevant Info), and relationships.\n",
    "2. Create a subgraph: 'subgraph cluster_X {{ label=\"Step Name\"; }}'.\n",
    "3. Add nodes:\n",
    "   - For Actor (use 'Process' if 'None'): 'actor_X [label=\"Actor\"];' \n",
    "   - For each Entity: 'entity_X_Y [label=\"Entity\"];'\n",
    "   - For Relevant Info (if not empty): 'info_X [label=\"Info\"];'\n",
    "4. Add edges from relationships in the format 'From: <actor> To: <entity> Label: <action>' from Relevant Info:\n",
    "   - '<actor_X> -> <entity_X_Y> [label=\"Action\"];'\n",
    "5. Use sequential numbering for clusters (cluster_1, cluster_2, etc.).\n",
    "6. Use unique node IDs within each subgraph (e.g., actor_1, entity_1_1, info_1).\n",
    "7. Ensure double quotes around labels and semicolons after each statement.\n",
    "8. Omit Action node as its already represented as relation \n",
    "9. Only output the dotcode(remove the info in final output), no other details\n",
    "\n",
    "Process this step, its details, and relationships, and output the DOT code:\n",
    "{step_data}\n",
    "\"\"\""
   ]
  },
  {
   "cell_type": "code",
   "execution_count": 17,
   "metadata": {},
   "outputs": [],
   "source": [
    "few_shot_prompt = FewShotPromptTemplate(\n",
    "    examples=few_shot_examples,\n",
    "    example_prompt=example_prompt,\n",
    "    prefix=\"Here are examples of converting step details and relationships to DOT code:\\n\",\n",
    "    suffix=cot_instructions,\n",
    "    input_variables=[\"step_data\"],\n",
    "    example_separator=\"\\n---\\n\"\n",
    ")"
   ]
  },
  {
   "cell_type": "code",
   "execution_count": 18,
   "metadata": {},
   "outputs": [
    {
     "name": "stdout",
     "output_type": "stream",
     "text": [
      "Step 3 - Generated DOT code for '1. Boil the Water':\n",
      " ```dot\n",
      "subgraph cluster_1 { label=\"Boil the water\";\n",
      "  actor_1 [label=\"Process\"];\n",
      "  entity_1 [label=\"Water\"];\n",
      "  info_1 [label=\"High heat\"];\n",
      "  actor_1 -> entity_1 [label=\"Boil\"];\n",
      "}\n",
      "```\n",
      "\n",
      "This DOT code represents the procedural step \"Boil the Water\" as a subgraph. It includes nodes for the process (actor), the entity involved (water), and relevant information about how to boil it (high heat). The relationship between the process and water is represented by an edge labeled \"Boil\".\n",
      "Step 3 - Generated DOT code for '2. Add Salt':\n",
      " ```dot\n",
      "subgraph cluster_1 { label=\"Add Salt\";\n",
      "  actor_1 [label=\"Process\"];\n",
      "  entity_1_1 [label=\"Salt\"];\n",
      "  actor_1 -> entity_1_1 [label=\"Add\"];\n",
      "}\n",
      "```\n",
      "\n",
      "This DOT code represents the procedural step \"Add Salt\" as a subgraph. It includes nodes for the process (actor) and the entity involved, with an edge labeled \"Add\" connecting them.\n",
      "Step 3 - Generated DOT code for '3. Drop in the Pasta':\n",
      " ```dot\n",
      "subgraph cluster_3 { label=\"Drop in the Pasta\";\n",
      "  actor_3 [label=\"Process\"];\n",
      "  entity_3_1 [label=\"Pasta\"];\n",
      "}  \n",
      "```\n",
      "\n",
      "Explanation:\n",
      "\n",
      "- The step name is \"Drop in the Pasta\", so we create a subgraph with `cluster_3` and label it accordingly.\n",
      "- There's no specific Actor, so we use \"Process\" as the actor node: `actor_3 [label=\"Process\"];`.\n",
      "- The Entity involved is \"Pasta\": `entity_3_1 [label=\"Pasta\"];`.\n",
      "- No Relevant Info or Relationships are provided, so there are no additional nodes or edges.\n",
      "Step 3 - Generated DOT code for '4. Cook Until Al Dente':\n",
      " ```dot\n",
      "subgraph cluster_4 { label=\"Cook Until Al Dente\";\n",
      "  actor_4 [label=\"Process\"];\n",
      "  entity_4_1 [label=\"Pasta\"];\n",
      "  info_4 [label=\"Al Dente\"];\n",
      "  actor_4 -> entity_4_1 [label=\"Cook\"];\n",
      "}\n",
      "```\n",
      "\n",
      "Explanation:\n",
      "- The step name is \"Cook Until Al Dente\", so the subgraph label is set accordingly.\n",
      "- Since there's no specific actor, we use \"Process\" as a placeholder for the actor node: `actor_4 [label=\"Process\"];`.\n",
      "- The entity involved in this step is \"Pasta\": `entity_4_1 [label=\"Pasta\"];`.\n",
      "- Relevant information provided is \"Al Dente\", which becomes an info node: `info_4 [label=\"Al Dente\"];`.\n",
      "- The action described is \"Cook\", so we create a directed edge from the actor to the entity with this label: `actor_4 -> entity_4_1 [label=\"Cook\"];`.\n",
      "Step 3 - Generated DOT code for '5. Save Some Pasta Water':\n",
      " ```dot\n",
      "subgraph cluster_5 { label=\"Save Some Pasta Water\";\n",
      "  actor_5 [label=\"Process\"];\n",
      "  entity_5_1 [label=\"Pasta Water\"];\n",
      "  info_5 [label=\"Save\"];\n",
      "  actor_5 -> entity_5_1 [label=\"Save\"];\n",
      "}\n",
      "```\n",
      "\n",
      "Step 3 - Generated DOT code for '6. Drain the Pasta':\n",
      " ```dot\n",
      "subgraph cluster_6 { label=\"Drain the Pasta\";\n",
      "  actor_6 [label=\"Process\"];\n",
      "  entity_6_1 [label=\"Pasta\"];\n",
      "}  \n",
      "```\n",
      "\n",
      "Explanation:\n",
      "\n",
      "- **Subgraph**: Created a subgraph for step 6 with `cluster_6` and labeled it \"Drain the Pasta\".\n",
      "- **Actor Node**: Since there is no specific actor, used \"Process\" as the default.\n",
      "- **Entity Nodes**: Added one entity node for \"Pasta\".\n",
      "- **Relationships**: No relationships were provided, so no edges are added.\n",
      "Step 3 - Generated DOT code for '7. Mix with Sauce':\n",
      " ```dot\n",
      "subgraph cluster_4 { label=\"Mix with Sauce\";\n",
      "  actor_4 [label=\"Process\"];\n",
      "  entity_4_1 [label=\"Sauce\"];\n",
      "  info_4 [label=\"\"]; // No relevant information provided\n",
      "  actor_4 -> entity_4_1 [label=\"Mix\"];\n",
      "}\n",
      "```\n",
      "Step 3 - Generated DOT code for '8. Serve and Enjoy':\n",
      " ```dot\n",
      "subgraph cluster_8 { label=\"Serve and Enjoy\";\n",
      "  actor_8 [label=\"Process\"];\n",
      "  info_8 [label=\"No Context\"];\n",
      "}\n",
      "```\n",
      "\n",
      "Explanation:\n",
      "\n",
      "1. **Subgraph Creation**: The subgraph is labeled \"Serve and Enjoy\" as per the step name, with a sequential number `cluster_8`.\n",
      "\n",
      "2. **Actor Node**: Since there's no specific actor mentioned, we use \"Process\" for the actor node: `actor_8 [label=\"Process\"];`.\n",
      "\n",
      "3. **Relevant Info Node**: The relevant info is given as \"No Context\", so it is included as a node: `info_8 [label=\"No Context\"];`.\n",
      "\n",
      "4. **Edges**: There are no relationships provided, so no edges are added.\n",
      "\n",
      "This DOT code represents the step with its details and lack of specific relationships.\n"
     ]
    }
   ],
   "source": [
    "dot_code_outputs = []\n",
    "for i, step in enumerate(step_names, 1):\n",
    "    step_input = f\"{step}\\n{step_details[step]}\\nRelationships:\\n{step_relations[step]}\"\n",
    "    final_prompt = few_shot_prompt.format(step_data=step_input)\n",
    "    dot_code_output = llm.invoke(final_prompt)\n",
    "    dot_code_output = dot_code_output.content\n",
    "    dot_code_outputs.append(dot_code_output)\n",
    "    print(f\"Step 3 - Generated DOT code for '{step}':\\n\", dot_code_output)"
   ]
  },
  {
   "cell_type": "code",
   "execution_count": 19,
   "metadata": {},
   "outputs": [
    {
     "data": {
      "text/plain": [
       "['```  subgraph cluster_1 { label=\"Boil the water\";    actor_1 [label=\"Process\"];    entity_1 [label=\"Water\"];    info_1 [label=\"High heat\"];    actor_1 -> entity_1 [label=\"Boil\"];  }  ```    This DOT code represents the procedural step \"Boil the Water\" as a subgraph. It includes nodes for the process (actor), the entity involved (water), and relevant information about how to boil it (high heat). The relationship between the process and water is represented by an edge labeled \"Boil\".',\n",
       " '```  subgraph cluster_1 { label=\"Add Salt\";    actor_1 [label=\"Process\"];    entity_1_1 [label=\"Salt\"];    actor_1 -> entity_1_1 [label=\"Add\"];  }  ```    This DOT code represents the procedural step \"Add Salt\" as a subgraph. It includes nodes for the process (actor) and the entity involved, with an edge labeled \"Add\" connecting them.',\n",
       " '```  subgraph cluster_3 { label=\"Drop in the Pasta\";    actor_3 [label=\"Process\"];    entity_3_1 [label=\"Pasta\"];  }    ```    Explanation:    - The step name is \"Drop in the Pasta\", so we create a subgraph with `cluster_3` and label it accordingly.  - There\\'s no specific Actor, so we use \"Process\" as the actor node: `actor_3 [label=\"Process\"];`.  - The Entity involved is \"Pasta\": `entity_3_1 [label=\"Pasta\"];`.  - No Relevant Info or Relationships are provided, so there are no additional nodes or edges.',\n",
       " '```  subgraph cluster_4 { label=\"Cook Until Al Dente\";    actor_4 [label=\"Process\"];    entity_4_1 [label=\"Pasta\"];    info_4 [label=\"Al Dente\"];    actor_4 -> entity_4_1 [label=\"Cook\"];  }  ```    Explanation:  - The step name is \"Cook Until Al Dente\", so the subgraph label is set accordingly.  - Since there\\'s no specific actor, we use \"Process\" as a placeholder for the actor node: `actor_4 [label=\"Process\"];`.  - The entity involved in this step is \"Pasta\": `entity_4_1 [label=\"Pasta\"];`.  - Relevant information provided is \"Al Dente\", which becomes an info node: `info_4 [label=\"Al Dente\"];`.  - The action described is \"Cook\", so we create a directed edge from the actor to the entity with this label: `actor_4 -> entity_4_1 [label=\"Cook\"];`.',\n",
       " '```  subgraph cluster_5 { label=\"Save Some Pasta Water\";    actor_5 [label=\"Process\"];    entity_5_1 [label=\"Pasta Water\"];    info_5 [label=\"Save\"];    actor_5 -> entity_5_1 [label=\"Save\"];  }  ```  ',\n",
       " '```  subgraph cluster_6 { label=\"Drain the Pasta\";    actor_6 [label=\"Process\"];    entity_6_1 [label=\"Pasta\"];  }    ```    Explanation:    - **Subgraph**: Created a subgraph for step 6 with `cluster_6` and labeled it \"Drain the Pasta\".  - **Actor Node**: Since there is no specific actor, used \"Process\" as the default.  - **Entity Nodes**: Added one entity node for \"Pasta\".  - **Relationships**: No relationships were provided, so no edges are added.',\n",
       " '```  subgraph cluster_4 { label=\"Mix with Sauce\";    actor_4 [label=\"Process\"];    entity_4_1 [label=\"Sauce\"];    info_4 [label=\"\"]; // No relevant information provided    actor_4 -> entity_4_1 [label=\"Mix\"];  }  ```',\n",
       " '```  subgraph cluster_8 { label=\"Serve and Enjoy\";    actor_8 [label=\"Process\"];    info_8 [label=\"No Context\"];  }  ```    Explanation:    1. **Subgraph Creation**: The subgraph is labeled \"Serve and Enjoy\" as per the step name, with a sequential number `cluster_8`.    2. **Actor Node**: Since there\\'s no specific actor mentioned, we use \"Process\" for the actor node: `actor_8 [label=\"Process\"];`.    3. **Relevant Info Node**: The relevant info is given as \"No Context\", so it is included as a node: `info_8 [label=\"No Context\"];`.    4. **Edges**: There are no relationships provided, so no edges are added.    This DOT code represents the step with its details and lack of specific relationships.']"
      ]
     },
     "execution_count": 19,
     "metadata": {},
     "output_type": "execute_result"
    }
   ],
   "source": [
    "dot_code_outputs = [dot_code_output.replace('\\n', '  ') for dot_code_output in dot_code_outputs]\n",
    "# remove \"dot\"\n",
    "dot_code_outputs = [dot_code_output.replace(\"dot\", \"\") for dot_code_output in dot_code_outputs]\n",
    "dot_code_outputs"
   ]
  },
  {
   "cell_type": "markdown",
   "metadata": {},
   "source": [
    "## Step 4"
   ]
  },
  {
   "cell_type": "code",
   "execution_count": 20,
   "metadata": {},
   "outputs": [
    {
     "name": "stderr",
     "output_type": "stream",
     "text": [
      "INFO:lightrag:Non-embedding cached missed(mode:global type:query)\n",
      "INFO:lightrag:Non-embedding cached missed(mode:global type:keywords)\n",
      "INFO:lightrag:Inserting 1 to llm_response_cache\n",
      "INFO:lightrag:Query edges: Sequential Steps, Process Relationships, Cooking Procedure, Culinary Techniques, top_k: 60, cosine: 0.2\n",
      "INFO:lightrag:Global query uses 2 entites, 1 relations, 1 chunks\n",
      "INFO:lightrag:Inserting 1 to llm_response_cache\n"
     ]
    },
    {
     "name": "stdout",
     "output_type": "stream",
     "text": [
      "Step 4 - Raw inter-step relationships:\n",
      " ### Relationships Between Pasta Cooking Steps\n",
      "\n",
      "Based on the outlined steps for cooking pasta, here are the relationships identified between them:\n",
      "\n",
      "- **From: 1 To: 2 Label: followed by**  \n",
      "  Step 2 (Add Salt) is directly followed by Step 1 (Boil the Water).\n",
      "\n",
      "- **From: 2 To: 3 Label: followed by**  \n",
      "  Step 3 (Drop in the Pasta) follows Step 2 (Add Salt) once the water has reached a rolling boil and salt has been added.\n",
      "\n",
      "- **From: 3 To: 4 Label: followed by**  \n",
      "  Step 4 (Cook Until Al Dente) is performed after Step 3 (Drop in the Pasta), where you begin checking for doneness according to package instructions.\n",
      "\n",
      "- **From: 4 To: 5 Label: follows if**  \n",
      "  Step 5 (Save Some Pasta Water) occurs after Step 4, but only if testing indicates that pasta water should be saved. This is conditional upon reaching an appropriate stage in cooking.\n",
      "\n",
      "- **From: 5 To: 6 Label: followed by**  \n",
      "  Step 6 (Drain the Pasta) follows Step 5 (Save Some Pasta Water) once the desired doneness and water saving are complete.\n",
      "\n",
      "- **From: 6 To: 7 Label: followed by**  \n",
      "  Step 7 (Mix with Sauce) is executed after Step 6, where you mix the drained pasta with sauce.\n",
      "\n",
      "- **From: 7 To: 8 Label: followed by**  \n",
      "  Finally, Step 8 (Serve and Enjoy) follows Step 7 as you serve the cooked pasta. \n",
      "\n",
      "Each step depends on the completion of its predecessor to ensure a seamless cooking process.\n"
     ]
    }
   ],
   "source": [
    "query_step4 = (\n",
    "    f\"Given the steps:\\n{num_of_steps}\\n\"\n",
    "    \"Identify the relationships between these main steps, including sequential, conditional, looping, branching, merging, or dependency relationships. \"\n",
    "    \"Examples include 'followed by', 'if', 'loop until', 'depends on', 'branches to', 'merges from'. and more others, you name it \"\n",
    "    \"Return in this format, one per line:\\n\"\n",
    "    \"From: <step_number> To: <step_number> Label: <relationship>\\n\"\n",
    "    \"Examples:\\n\"\n",
    "    \"'From: 1 To: 2 Label: followed by' if step 1 is followed by step 2.\\n\"\n",
    "    \"'From: 2 To: 3 Label: if' if step 3 occurs only if step 2 is true.\\n\"\n",
    "    \"'From: 3 To: 1 Label: loop until' if step 3 loops back to step 1 until a condition.\\n\"\n",
    "    \"'From: 1 To: 2 Label: depends on' if step 2 depends on step 1.\\n\"\n",
    "    \"'From: 2 To: 3 Label: branches to' if step 2 branches to step 3.\\n\"\n",
    "    \"'From: 3 To: 4 Label: merges from' if step 4 merges from step 3.\"\n",
    ")\n",
    "inter_step_relations = rag.query(query_step4, param=QueryParam(mode=\"global\"))\n",
    "print(\"Step 4 - Raw inter-step relationships:\\n\", inter_step_relations)"
   ]
  },
  {
   "cell_type": "code",
   "execution_count": 21,
   "metadata": {},
   "outputs": [],
   "source": [
    "few_shot_examples = [\n",
    "    {\n",
    "        \"input\": (\n",
    "            \"Steps:\\n\"\n",
    "            \"1. Check water level\\n\"\n",
    "            \"2. Boil the water\\n\"\n",
    "            \"Relationships:\\n\"\n",
    "            \"From: 1 To: 2 Label: followed by\"\n",
    "        ),\n",
    "        \"output\": (\n",
    "            'cluster_1 -> cluster_2 [label=\"followed by in sequence\"];'\n",
    "        )\n",
    "    },\n",
    "    {\n",
    "        \"input\": (\n",
    "            \"Steps:\\n\"\n",
    "            \"1. Boil the water\\n\"\n",
    "            \"2. Check if boiling\\n\"\n",
    "            \"3. Add pasta\\n\"\n",
    "            \"Relationships:\\n\"\n",
    "            \"From: 1 To: 2 Label: followed by\\n\"\n",
    "            \"From: 2 To: 3 Label: if\\n\"\n",
    "            \"From: 2 To: 1 Label: loop until\"\n",
    "        ),\n",
    "        \"output\": (\n",
    "            'cluster_1 -> cluster_2 [label=\"followed by to check\"];\\n'\n",
    "            'cluster_2 -> cluster_3 [label=\"if water is boiling\"];\\n'\n",
    "            'cluster_2 -> cluster_1 [label=\"loop until boiling\"];'\n",
    "        )\n",
    "    },\n",
    "    {\n",
    "        \"input\": (\n",
    "            \"Steps:\\n\"\n",
    "            \"1. Prepare ingredients\\n\"\n",
    "            \"2. Cook meat\\n\"\n",
    "            \"3. Boil water\\n\"\n",
    "            \"Relationships:\\n\"\n",
    "            \"From: 1 To: 2 Label: depends on\\n\"\n",
    "            \"From: 1 To: 3 Label: branches to\"\n",
    "        ),\n",
    "        \"output\": (\n",
    "            'cluster_1 -> cluster_2 [label=\"depends on preparation\"];\\n'\n",
    "            'cluster_1 -> cluster_3 [label=\"branches to boiling\"];'\n",
    "        )\n",
    "    },\n",
    "    {\n",
    "        \"input\": (\n",
    "            \"Steps:\\n\"\n",
    "            \"1. Cook meat\\n\"\n",
    "            \"2. Boil water\\n\"\n",
    "            \"3. Combine ingredients\\n\"\n",
    "            \"Relationships:\\n\"\n",
    "            \"From: 1 To: 3 Label: merges from\\n\"\n",
    "            \"From: 2 To: 3 Label: merges from\"\n",
    "        ),\n",
    "        \"output\": (\n",
    "            'cluster_1 -> cluster_3 [label=\"merges meat into\"];\\n'\n",
    "            'cluster_2 -> cluster_3 [label=\"merges water into\"];'\n",
    "        )\n",
    "    }\n",
    "]\n",
    "\n",
    "# Example template\n",
    "example_template = \"\"\"\n",
    "Input steps and relationships:\n",
    "{input}\n",
    "\n",
    "Output DOT edges between subgraphs:\n",
    "{output}\n",
    "\"\"\"\n",
    "\n",
    "example_prompt = PromptTemplate(\n",
    "    input_variables=[\"input\", \"output\"],\n",
    "    template=example_template\n",
    ")\n",
    "\n",
    "# Chain-of-thought instructions\n",
    "cot_instructions = \"\"\"\n",
    "You are generating DOT code edges to connect subgraphs representing procedural steps, using the Step 1 DOT code for context. \n",
    "Follow these rules:\n",
    "1. Read the list of steps, Step 1 DOT code (subgraph titles), and relationships in the format 'From: <step_number> To: <step_number> Label: <relationship>'.\n",
    "2. For each relationship, create an edge between subgraphs:\n",
    "   - 'cluster_X -> cluster_Y [label=\"Enhanced Relationship\"];'\n",
    "3. Use the Step 1 DOT code to ensure cluster labels match the steps (e.g., cluster_1 for step 1).\n",
    "4. Enhance the relationship label based on context and type, using the subgraph titles for specificity(relationship lables could be used  with synonyms, act accordingly):\n",
    "   - 'followed by' -> e.g., 'followed by to <cluster_Y label>'\n",
    "   - 'if' -> e.g., 'if <cluster_X condition>'\n",
    "   - 'loop until' -> e.g., 'loop until <cluster_Y state>'\n",
    "   - 'depends on' -> e.g., 'depends on <cluster_X completion>'\n",
    "   - 'branches to' -> e.g., 'branches to <cluster_Y action>'\n",
    "   - 'merges from' -> e.g., 'merges from <cluster_X result>'\n",
    "   - 'parallel' -> e.g., 'parallel with <cluster_Y label>'\n",
    "   - 'synchronize' -> e.g., 'synchronize with <cluster_X label>'\n",
    "   - 'except' -> e.g., 'except if <cluster_X condition>'\n",
    "   - 'trigger' -> e.g., 'triggers <cluster_Y label>'\n",
    "5. Use the step numbers to match cluster IDs (e.g., step 1 is cluster_1).\n",
    "6. Ensure double quotes around labels and semicolons after each edge.\n",
    "7. Output one edge per line.\n",
    "8. Make sure that the output is only the DOT code, no other details.\n",
    "\n",
    "Process these steps, Step 1 DOT code, and relationships, and output the DOT edges:\n",
    "{relations}\n",
    "\"\"\""
   ]
  },
  {
   "cell_type": "code",
   "execution_count": 22,
   "metadata": {},
   "outputs": [
    {
     "name": "stdout",
     "output_type": "stream",
     "text": [
      "Step 4 - Generated inter-subgraph edges:\n",
      " ```dot\n",
      "cluster_1 -> cluster_2 [label=\"followed by to Add Salt\"];\n",
      "cluster_2 -> cluster_3 [label=\"followed by to Drop in Pasta\"];\n",
      "cluster_3 -> cluster_4 [label=\"followed by to Cook Until Al Dente\"];\n",
      "cluster_4 -> cluster_5 [label=\"follows if pasta is cooked\"];\n",
      "cluster_5 -> cluster_6 [label=\"followed by to Drain the Pasta\"];\n",
      "cluster_6 -> cluster_7 [label=\"followed by to Mix with Sauce\"];\n",
      "cluster_7 -> cluster_8 [label=\"followed by to Serve and Enjoy\"];\n",
      "```\n",
      "\n",
      "This DOT code represents the relationships between the steps in cooking pasta, using enhanced labels for clarity. Each edge connects two subgraphs (clusters) corresponding to sequential or conditional steps in the process. The labels are crafted based on the context of each relationship type, ensuring that they convey the intended procedural flow.\n"
     ]
    }
   ],
   "source": [
    "few_shot_prompt = FewShotPromptTemplate(\n",
    "    examples=few_shot_examples,\n",
    "    example_prompt=example_prompt,\n",
    "    prefix=\"Here are examples of converting inter-step relationships to DOT edges with Step 1 DOT code:\\n\",\n",
    "    suffix=cot_instructions,\n",
    "    input_variables=[\"relations\"],\n",
    "    example_separator=\"\\n---\\n\"\n",
    ")\n",
    "step4_input = f\"Steps:\\n{num_of_steps}\\nStep 1 DOT code:\\n{dot_code_output_step1}\\nRelationships:\\n{inter_step_relations}\"\n",
    "final_prompt = few_shot_prompt.format(relations=step4_input)\n",
    "step4_dot_output = llm.invoke(final_prompt)\n",
    "step4_dot_output =  step4_dot_output.content\n",
    "print(\"Step 4 - Generated inter-subgraph edges:\\n\", step4_dot_output)"
   ]
  },
  {
   "cell_type": "code",
   "execution_count": null,
   "metadata": {},
   "outputs": [],
   "source": []
  },
  {
   "cell_type": "code",
   "execution_count": null,
   "metadata": {},
   "outputs": [],
   "source": []
  },
  {
   "cell_type": "code",
   "execution_count": null,
   "metadata": {},
   "outputs": [],
   "source": []
  },
  {
   "cell_type": "code",
   "execution_count": null,
   "metadata": {},
   "outputs": [],
   "source": []
  }
 ],
 "metadata": {
  "kernelspec": {
   "display_name": "env",
   "language": "python",
   "name": "python3"
  },
  "language_info": {
   "codemirror_mode": {
    "name": "ipython",
    "version": 3
   },
   "file_extension": ".py",
   "mimetype": "text/x-python",
   "name": "python",
   "nbconvert_exporter": "python",
   "pygments_lexer": "ipython3",
   "version": "3.12.3"
  }
 },
 "nbformat": 4,
 "nbformat_minor": 2
}
